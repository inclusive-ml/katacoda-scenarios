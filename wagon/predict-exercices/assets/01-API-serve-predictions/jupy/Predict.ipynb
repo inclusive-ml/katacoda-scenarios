{
  "cells": [
    {
      "cell_type": "markdown",
      "source": [
        "# Get test data"
      ],
      "metadata": {}
    },
    {
      "cell_type": "code",
      "source": [
        "import pandas as pd\n",
        "url = \"https://clients.widged.com/wagon/data/bq_complete.csv\"\n",
        "df = pd.read_csv(url, nrows=1000)"
      ],
      "outputs": [],
      "execution_count": 4,
      "metadata": {
        "execution": {
          "iopub.status.busy": "2021-04-09T05:30:08.753Z",
          "iopub.execute_input": "2021-04-09T05:30:08.767Z",
          "iopub.status.idle": "2021-04-09T05:30:09.619Z",
          "shell.execute_reply": "2021-04-09T05:30:09.626Z"
        }
      }
    },
    {
      "cell_type": "code",
      "source": [
        "df.shape"
      ],
      "outputs": [
        {
          "output_type": "execute_result",
          "execution_count": 2,
          "data": {
            "text/plain": "(1000, 9)"
          },
          "metadata": {}
        }
      ],
      "execution_count": 2,
      "metadata": {
        "execution": {
          "iopub.status.busy": "2021-04-09T05:29:08.892Z",
          "iopub.execute_input": "2021-04-09T05:29:08.898Z",
          "iopub.status.idle": "2021-04-09T05:29:08.986Z",
          "shell.execute_reply": "2021-04-09T05:29:08.996Z"
        }
      }
    },
    {
      "cell_type": "code",
      "source": [
        "df = df.dropna(how='any',  axis='rows')\n",
        "instances = df.drop(\"fare_amount\", axis=1).to_dict(orient=\"records\")"
      ],
      "outputs": [],
      "execution_count": 6,
      "metadata": {}
    },
    {
      "cell_type": "code",
      "source": [
        "instances[3:5]"
      ],
      "outputs": [
        {
          "output_type": "execute_result",
          "execution_count": 7,
          "data": {
            "text/plain": "[{'dropoff_latitude': 40.758092,\n  'dropoff_longitude': -73.991567,\n  'key': '2012-04-21 04:30:42.0000001',\n  'passenger_count': 1,\n  'pickup_datetime': '2012-04-21 04:30:42 UTC',\n  'pickup_latitude': 40.733143,\n  'pickup_longitude': -73.98713000000002,\n  'test': False},\n {'dropoff_latitude': 40.783762,\n  'dropoff_longitude': -73.956655,\n  'key': '2010-03-09 07:51:00.000000135',\n  'passenger_count': 1,\n  'pickup_datetime': '2010-03-09 07:51:00 UTC',\n  'pickup_latitude': 40.768008,\n  'pickup_longitude': -73.96809499999998,\n  'test': False}]"
          },
          "metadata": {}
        }
      ],
      "execution_count": 7,
      "metadata": {}
    },
    {
      "cell_type": "markdown",
      "source": [
        "# Ask API for prediction"
      ],
      "metadata": {}
    },
    {
      "cell_type": "code",
      "source": [
        "#api_url = \"http://127.0.0.1:8080/\"\n",
        "api_url = \"https://taxifare-api-jean.herokuapp.com/\"  "
      ],
      "outputs": [],
      "execution_count": 8,
      "metadata": {}
    },
    {
      "cell_type": "code",
      "source": [
        "%%time\n",
        "import requests\n",
        "r = requests.get(api_url+\"predict_fare\", json=instances[22:30])#, headers = {'content-type': 'application/json', 'Accept-Charset': 'UTF-8'})\n"
      ],
      "outputs": [
        {
          "output_type": "stream",
          "name": "stdout",
          "text": [
            "CPU times: user 15.7 ms, sys: 2.89 ms, total: 18.6 ms\n",
            "Wall time: 25.7 s\n"
          ]
        }
      ],
      "execution_count": 9,
      "metadata": {}
    },
    {
      "cell_type": "code",
      "source": [
        "r.json()"
      ],
      "outputs": [
        {
          "output_type": "execute_result",
          "execution_count": 10,
          "data": {
            "text/plain": "{'predictions': [5.648, 6.563, 6.409, 7.598, 7.904, 5.092, 10.877, 5.123]}"
          },
          "metadata": {}
        }
      ],
      "execution_count": 10,
      "metadata": {}
    },
    {
      "cell_type": "code",
      "source": [],
      "outputs": [],
      "execution_count": null,
      "metadata": {}
    }
  ],
  "metadata": {
    "kernelspec": {
      "display_name": "Python 3",
      "language": "python",
      "name": "python3"
    },
    "language_info": {
      "name": "python",
      "version": "3.7.5",
      "mimetype": "text/x-python",
      "codemirror_mode": {
        "name": "ipython",
        "version": 3
      },
      "pygments_lexer": "ipython3",
      "nbconvert_exporter": "python",
      "file_extension": ".py"
    },
    "pycharm": {
      "stem_cell": {
        "cell_type": "raw",
        "metadata": {
          "collapsed": false
        },
        "source": []
      }
    },
    "toc": {
      "toc_position": {},
      "skip_h1_title": false,
      "number_sections": true,
      "title_cell": "Table of Contents",
      "toc_window_display": false,
      "base_numbering": 1,
      "toc_section_display": true,
      "title_sidebar": "Contents",
      "toc_cell": false,
      "nav_menu": {},
      "sideBar": true
    },
    "nteract": {
      "version": "0.28.0"
    }
  },
  "nbformat": 4,
  "nbformat_minor": 4
}
